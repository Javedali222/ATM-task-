{
 "cells": [
  {
   "cell_type": "code",
   "execution_count": 4,
   "id": "53ae3cff-083f-4020-a3a4-39b35ff68237",
   "metadata": {},
   "outputs": [
    {
     "name": "stdin",
     "output_type": "stream",
     "text": [
      "Please, enter Your PIN: 1234\n"
     ]
    },
    {
     "name": "stdout",
     "output_type": "stream",
     "text": [
      "Your Have Entered Wrong PIN\n",
      "Thank you for visiting us, have a nice day\n",
      "{1234: {'Name': 'Javed', 'balance': 27000, 'Account Number': 9718292999090}}\n"
     ]
    }
   ],
   "source": [
    "\n",
    "data = {1234:{\"Name\":\"Javed\",\"balance\":27000,\"Account Number\":9718292999090}}\n",
    "\n",
    "\n",
    "pin_input = input(\"Please, enter Your PIN:\")\n",
    "\n",
    "if pin_input not in data:\n",
    "    print(\"Your Have Entered Wrong PIN\")\n",
    "    \n",
    "if pin_input in data:\n",
    "    print(f\"Hi {data[pin_input][\"Name\"]},\")\n",
    "    print(\"Please, select your option:\")\n",
    "    \n",
    "    print(\"1 – Balance Inquiry\")\n",
    "    print(\"2 – Withdraw\")\n",
    "    print(\"3 – Deposit\")\n",
    "    print(\"4 – Exit\")\n",
    "\n",
    "    choice = int(input(\"Enter your choice:\"))\n",
    "\n",
    "    if choice == 1 or choice == 2 or choice == 3:\n",
    "        acc = int(input(\"Enter Your Account Number:\"))\n",
    "        \n",
    "        if acc == data[pin_input][\"Acc.No\"]:\n",
    "            \n",
    "            if choice == 1:\n",
    "                print(f\"Your current balance is ₹ {data[pin_input][\"Balance\"]}\")\n",
    "            \n",
    "            elif choice == 2:\n",
    "                withdraw = int(input(\"Enter amount to withdraw: ₹\"))\n",
    "                \n",
    "                if withdraw > data[pin_input][\"Balance\"]:\n",
    "                    print(\"Due to Insufficient Balance\")\n",
    "                else:\n",
    "                    diff = data[pin_input][\"Balance\"] - withdraw\n",
    "                    print(f\"Your remaining balance is ₹ {diff}\")\n",
    "                    data[pin_input][\"Balance\"] = diff\n",
    "            \n",
    "            elif choice == 3:\n",
    "                deposit = int(input(\"Enter amount to deposit: ₹\"))\n",
    "                sums = data[pin_input][\"Balance\"] + deposit\n",
    "                print(f\"Your New balance is ₹ {sums}\")\n",
    "                data[pin_input][\"Balance\"] = sums\n",
    "        else:\n",
    "            print(\"You have entered wrong Account Number, process cancelled\")\n",
    "\n",
    "    elif choice == 4:\n",
    "        print(\"Your are now exiting\")\n",
    "    \n",
    "    else:     \n",
    "        print(\"You Have Opted Invalid Option\")  \n",
    "\n",
    "\n",
    "print(\"Thank you for visiting us, have a nice day\")\n",
    "print(data)\n",
    "\n"
   ]
  },
  {
   "cell_type": "code",
   "execution_count": null,
   "id": "7682dcbd-b09d-48ce-a0b3-2853985bab80",
   "metadata": {},
   "outputs": [],
   "source": []
  }
 ],
 "metadata": {
  "kernelspec": {
   "display_name": "Python 3 (ipykernel)",
   "language": "python",
   "name": "python3"
  },
  "language_info": {
   "codemirror_mode": {
    "name": "ipython",
    "version": 3
   },
   "file_extension": ".py",
   "mimetype": "text/x-python",
   "name": "python",
   "nbconvert_exporter": "python",
   "pygments_lexer": "ipython3",
   "version": "3.12.4"
  }
 },
 "nbformat": 4,
 "nbformat_minor": 5
}
